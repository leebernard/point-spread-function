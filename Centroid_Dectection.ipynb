{
 "cells": [
  {
   "cell_type": "code",
   "execution_count": null,
   "metadata": {},
   "outputs": [],
   "source": [
    "# pass header data unit.  REMEBER, this is pass-by-reference\n",
    "def Bias_Subtract(HDU): \n",
    "    # import needed packages\n",
    "    import numpy as np\n",
    "    from astropy.io import fits\n",
    "    import re\n",
    "    from astropy.stats import sigma_clipped_stats\n",
    "    \n",
    "    # Store the data from the HDU argument\n",
    "    Im_Data = HDU.data\n",
    "    \n",
    "    \n",
    "    # pull the bias section information\n",
    "    Bias_Sec = HDU.header['BIASSEC']\n",
    "    print('Bias Section is '+Bias_Sec)\n",
    "    # print(type(Bias_Sec))\n",
    "    # slice the string, for converting to int\n",
    "    pattern = re.compile('\\d+') # pattern for all decimal digits\n",
    "    print(pattern.findall(Bias_Sec))\n",
    "\n",
    "    # hold the result in an object\n",
    "    match = pattern.findall(Bias_Sec)\n",
    "    \n",
    "    \n",
    "    \n",
    "    # Bias section data from the header readout.  \n",
    "    # image is not indexed the same as python. \n",
    "    # Image indexes (x,y), from lower left\n",
    "    # python indexes (y,x)\n",
    "    \n",
    "    xmin = int(match[0])\n",
    "    xmax = int(match[1])\n",
    "    ymin = int(match[2])\n",
    "    ymax = int(match[3])\n",
    "    \n",
    "    bias_data = Im_Data[ymin:ymax, xmin:xmax]\n",
    "    \n",
    "    \n",
    "    # Calculate the bias, using clipped statistics in case of cosmic ray events, and print the \t\t#results\n",
    "    bias_mean, bias_median, bias_std = sigma_clipped_stats(bias_data, sigma=3.0, iters=5)\n",
    "    print('Bias mean: '+ str(bias_mean))\n",
    "    print('Bias median: '+str(bias_median))\n",
    "    print('Bias standerd deviation: '+str(bias_std))\n",
    "    \n",
    "    # calculate and print the bias area statistics, for reference.  DISABLED\n",
    "    # print('Bias area after subtraction \\n Mean: ')\n",
    "    output_im = Im_Data-bias_mean\n",
    "    return output_im"
   ]
  },
  {
   "cell_type": "code",
   "execution_count": 3,
   "metadata": {},
   "outputs": [],
   "source": [
    "# calculates bias using a mask routine from photutils\n",
    "def Background_Subtract(HDU):\n",
    "    import numpy as np\n",
    "    from astropy.io import fits\n",
    "    \n",
    "    # store the data from the HDU argument\n",
    "    Im_Data = HDU.data\n",
    "    \n",
    "    #Generate mask\n",
    "    from photutils import make_source_mask\n",
    "    from astropy.stats import sigma_clipped_stats\n",
    "    mask = make_source_mask(Im_Data, snr=2, npixels=5, dilate_size=11)\n",
    " \n",
    "    # calculate bias using mean\n",
    "    # clipped stats are used, just in case\n",
    "    mean, median, std = sigma_clipped_stats(Im_Data, sigma=3.0, mask=mask)\n",
    "    print('Background mean: '+ str(mean))\n",
    "    print('Background median: '+str(median))\n",
    "    print('Background standerd deviation: '+str(std))\n",
    "    \n",
    "    output_im = Im_Data-mean\n",
    "    \n",
    "    \n",
    "    return output_im, mask"
   ]
  },
  {
   "cell_type": "code",
   "execution_count": 4,
   "metadata": {},
   "outputs": [],
   "source": [
    "# needed packages\n",
    "import numpy as np\n",
    "import matplotlib\n",
    "import matplotlib.pyplot as plt\n",
    "import re\n",
    "\n",
    "from astropy.io import fits\n"
   ]
  },
  {
   "cell_type": "code",
   "execution_count": 5,
   "metadata": {},
   "outputs": [
    {
     "name": "stdout",
     "output_type": "stream",
     "text": [
      "Filename: /home/lee/Documents/k4m_160319_101212_ori.fits.fz\n",
      "No.    Name      Ver    Type      Cards   Dimensions   Format\n",
      "  0  PRIMARY       1 PrimaryHDU     147   ()      \n",
      "  1  im1           1 CompImageHDU    162   (2112, 2112)   int32   \n",
      "  2  im2           1 CompImageHDU    162   (2112, 2112)   int32   \n",
      "  3  im3           1 CompImageHDU    162   (2112, 2112)   int32   \n",
      "  4  im4           1 CompImageHDU    162   (2112, 2112)   int32   \n",
      "  5  im5           1 CompImageHDU    162   (2112, 2112)   int32   \n",
      "  6  im6           1 CompImageHDU    162   (2112, 2112)   int32   \n",
      "  7  im7           1 CompImageHDU    162   (2112, 2112)   int32   \n",
      "  8  im8           1 CompImageHDU    162   (2112, 2112)   int32   \n",
      "  9  im9           1 CompImageHDU    162   (2112, 2112)   int32   \n",
      " 10  im10          1 CompImageHDU    162   (2112, 2112)   int32   \n",
      " 11  im11          1 CompImageHDU    162   (2112, 2112)   int32   \n",
      " 12  im12          1 CompImageHDU    162   (2112, 2112)   int32   \n",
      " 13  im13          1 CompImageHDU    162   (2112, 2112)   int32   \n",
      " 14  im14          1 CompImageHDU    162   (2112, 2112)   int32   \n",
      " 15  im15          1 CompImageHDU    162   (2112, 2112)   int32   \n",
      " 16  im16          1 CompImageHDU    162   (2112, 2112)   int32   \n",
      "Bias Section is [2066:2112,18:2065]\n",
      "['2066', '2112', '18', '2065']\n",
      "Bias mean: 3340.623879866329\n",
      "Bias median: 3341.0\n",
      "Bias standerd deviation: 4.511557258172043\n"
     ]
    }
   ],
   "source": [
    "# open fits file, best practice\n",
    "file_name = '/home/lee/Documents/k4m_160319_101212_ori.fits.fz'\n",
    "with fits.open(file_name) as hdu:\n",
    "    hdu.info()\n",
    "    data_im1 = hdu[1].data\n",
    "    # bias subtraction\n",
    "    bias_subtracted_im1 = Bias_Subtract(hdu[1])\n",
    "    \n",
    "  \n",
    "    # background subtraction\n",
    "    # Implement later"
   ]
  },
  {
   "cell_type": "code",
   "execution_count": 6,
   "metadata": {},
   "outputs": [
    {
     "name": "stdout",
     "output_type": "stream",
     "text": [
      "Background mean: 2559.146095920596\n",
      "Background median: 2560.376120133671\n",
      "Background standerd deviation: 37.72201904488489\n",
      "Centroids:\n",
      "(22.67240393061795, 23.108805600665146)\n",
      "(22.68841211921629, 22.930570491275684)\n",
      "(22.740774684260863, 22.91237572503529)\n"
     ]
    }
   ],
   "source": [
    "# first object\n",
    "# Centroid detection:\n",
    "from photutils import centroid_com, centroid_1dg, centroid_2dg\n",
    "\n",
    "# arbitrarily choosen object, section manually entered\n",
    "ymin = 455\n",
    "ymax = 505\n",
    "xmin = 1490\n",
    "xmax = 1540\n",
    "Object1_Data = bias_subtracted_im1[ymin:ymax,xmin:xmax]\n",
    "\n",
    "# Background subtract the object\n",
    "Object1_Data, mask = Background_Subtract(Object1_Data)\n",
    "\n",
    "# centroid techniques: need to learn the difference3s\n",
    "print('Centroids:')\n",
    "x1, y1 = centroid_com(Object1_Data)\n",
    "print((x1, y1)) \n",
    "x2, y2 = centroid_1dg(Object1_Data)\n",
    "print((x2, y2))\n",
    "x3, y3 = centroid_2dg(Object1_Data)\n",
    "print((x3, y3))"
   ]
  },
  {
   "cell_type": "code",
   "execution_count": 7,
   "metadata": {},
   "outputs": [
    {
     "data": {
      "text/plain": [
       "<matplotlib.image.AxesImage at 0x7f0bd6e63390>"
      ]
     },
     "execution_count": 7,
     "metadata": {},
     "output_type": "execute_result"
    },
    {
     "data": {
      "image/png": "[encoded data removed]",
      "text/plain": [
       "<Figure size 432x288 with 1 Axes>"
      ]
     },
     "metadata": {},
     "output_type": "display_data"
    }
   ],
   "source": [
    "from astropy.visualization import SqrtStretch\n",
    "\n",
    "from astropy.visualization.mpl_normalize import ImageNormalize\n",
    "norm = ImageNormalize(stretch=SqrtStretch())\n",
    "\n",
    "plt.figure()\n",
    "plt.imshow(Object1_Data, norm=norm, origin='lower', cmap='viridis')\n"
   ]
  },
  {
   "cell_type": "code",
   "execution_count": 8,
   "metadata": {},
   "outputs": [
    {
     "data": {
      "text/plain": [
       "<matplotlib.image.AxesImage at 0x7f0bd53e0198>"
      ]
     },
     "execution_count": 8,
     "metadata": {},
     "output_type": "execute_result"
    },
    {
     "data": {
      "image/png": "[encoded data removed]",
      "text/plain": [
       "<Figure size 432x288 with 1 Axes>"
      ]
     },
     "metadata": {},
     "output_type": "display_data"
    }
   ],
   "source": [
    "\n",
    "plt.figure()\n",
    "plt.imshow(mask, origin='lower', cmap='viridis')"
   ]
  },
  {
   "cell_type": "code",
   "execution_count": 27,
   "metadata": {},
   "outputs": [
    {
     "name": "stdout",
     "output_type": "stream",
     "text": [
      "Resultant parameters\n",
      "[1.02834260e+06 2.27598908e+01 2.28862809e+01 2.01078174e+00\n",
      " 2.23177538e+00 1.42277152e+01]\n",
      "Error on parameters\n",
      "[5.47623687e+03 1.04637365e-02 1.16136313e-02 1.05253526e-02\n",
      " 1.16820184e-02 1.03128607e+01]\n",
      "Covariance matrix, if that is interesting\n",
      "[[ 2.99891703e+07  4.01006133e-07 -4.05696846e-07  2.93199724e+01\n",
      "   3.25420405e+01 -1.19956603e+04]\n",
      " [ 4.01006133e-07  1.09489782e-04 -9.73417030e-15 -8.73411959e-12\n",
      "   3.55590493e-13 -3.75833261e-09]\n",
      " [-4.05696846e-07 -9.73417030e-15  1.34876431e-04 -5.54939732e-13\n",
      "  -1.05438437e-11  3.84104335e-09]\n",
      " [ 2.93199724e+01 -8.73411959e-12 -5.54939732e-13  1.10783048e-04\n",
      "   1.43538030e-06 -1.17279496e-02]\n",
      " [ 3.25420405e+01  3.55590493e-13 -1.05438437e-11  1.43538030e-06\n",
      "   1.36469555e-04 -1.30167704e-02]\n",
      " [-1.19956603e+04 -3.75833261e-09  3.84104335e-09 -1.17279496e-02\n",
      "  -1.30167704e-02  1.06355096e+02]]\n",
      "peak count\n",
      "31364.23002421308\n"
     ]
    }
   ],
   "source": [
    "# Centroid dectection by curve fitting\n",
    "# this attempt uses a bivariate normal distorbution as a model for the object\n",
    "\n",
    "# define gaussian function, assuming no correlation between x and y\n",
    "# indata is a pair of arrays, each array corresponding to the x indice or y indice, in the form (x, y)\n",
    "# amplitude is the maximum amplitude of the function, minus background\n",
    "# x0, y0 are the center coord. of the function\n",
    "# sigma_x, sigma_y are the widths of the function\n",
    "# offset is the background\n",
    "# the output is flattened, in order to package it for curve_fit\n",
    "def Gaussian_2d(indata , amplitude, x0, y0, sigma_x, sigma_y, offset):\n",
    "    import numpy as np\n",
    "    x, y = indata\n",
    "    normalize = 1/(sigma_x*sigma_y*2*np.pi)\n",
    "    \n",
    "    gaussian_fun = offset + amplitude*normalize*np.exp(-(x-x0)**2/(2*sigma_x**2) - (y-y0)**2/(2*sigma_y**2))\n",
    "    \n",
    "    return gaussian_fun.ravel()\n",
    "\n",
    "# fit data to gaussian\n",
    "from scipy.optimize import curve_fit\n",
    "from photutils import centroid_2dg\n",
    "\n",
    "# generate a best guess using photutils\n",
    "x_guess, y_guess = centroid_2dg(Object1_Data)\n",
    "amp_guess = np.amax(Object1_Data)\n",
    "\n",
    "\n",
    "# indexes of the apature, remembering that python indexes vert, horz\n",
    "y = np.arange(Object1_Data.shape[0])\n",
    "x = np.arange(Object1_Data.shape[1])\n",
    "x, y = np.meshgrid(x, y)\n",
    "\n",
    "# curve fit\n",
    "G_fit, G_cov = curve_fit(Gaussian_2d, (x,y), Object1_Data.ravel(), p0=[amp_guess, x_guess, y_guess, 1, 1, 1])\n",
    "print('Resultant parameters')\n",
    "print(G_fit)\n",
    "\n",
    "error = np.sqrt(np.diag(G_cov))\n",
    "print('Error on parameters')\n",
    "print(error)\n",
    "\n",
    "print('Covariance matrix, if that is interesting')\n",
    "print(G_cov)\n",
    "\n",
    "print('peak count')\n",
    "print(np.amax(Object1_Data))"
   ]
  },
  {
   "cell_type": "code",
   "execution_count": 10,
   "metadata": {},
   "outputs": [
    {
     "name": "stdout",
     "output_type": "stream",
     "text": [
      "center:  22.759890798713858 , 22.88628091248912\n",
      "width:  4.0215634883261515 by 4.463550759584808\n"
     ]
    },
    {
     "data": {
      "image/png": "[encoded data removed]",
      "text/plain": [
       "<Figure size 432x288 with 1 Axes>"
      ]
     },
     "metadata": {},
     "output_type": "display_data"
    }
   ],
   "source": [
    "from astropy.visualization import SqrtStretch\n",
    "\n",
    "from astropy.visualization.mpl_normalize import ImageNormalize\n",
    "norm = ImageNormalize(stretch=SqrtStretch())\n",
    "\n",
    "x_center = G_fit[1]\n",
    "y_center = G_fit[2]\n",
    "x_width = G_fit[3]\n",
    "y_width = G_fit[4]\n",
    "\n",
    "plt.figure()\n",
    "plt.imshow(Object1_Data, norm=norm, origin='lower', cmap='viridis')\n",
    "plt.errorbar(x_center, y_center, xerr=x_width, yerr=y_width, ecolor='red')\n",
    "\n",
    "print('center: ',x_center, ',', y_center)\n",
    "print('width: ', 2*x_width, 'by', 2*y_width)"
   ]
  },
  {
   "cell_type": "code",
   "execution_count": 11,
   "metadata": {},
   "outputs": [
    {
     "data": {
      "image/png": "[encoded data removed]",
      "text/plain": [
       "<Figure size 432x288 with 1 Axes>"
      ]
     },
     "metadata": {},
     "output_type": "display_data"
    }
   ],
   "source": [
    "histogram = plt.hist(data_im1.flatten(),bins=2000, range=[-500, 7000])"
   ]
  },
  {
   "cell_type": "code",
   "execution_count": 12,
   "metadata": {},
   "outputs": [
    {
     "data": {
      "image/png": "[encoded data removed]",
      "text/plain": [
       "<Figure size 432x288 with 1 Axes>"
      ]
     },
     "metadata": {},
     "output_type": "display_data"
    }
   ],
   "source": [
    "histogram = plt.hist(bias_subtracted_im1.flatten(),bins=2000, range=[-100,3500])"
   ]
  },
  {
   "cell_type": "code",
   "execution_count": 13,
   "metadata": {},
   "outputs": [
    {
     "name": "stdout",
     "output_type": "stream",
     "text": [
      "1063912.0605326872\n",
      "1028342.5971672235\n",
      "1.0345891179296152\n"
     ]
    }
   ],
   "source": [
    "# find totaly count\n",
    "total = np.sum(Object1_Data)\n",
    "\n",
    "# normalize the counts: each pixel data point is now a fraction of the total power\n",
    "normalized_data = np.divide(Object1_Data, total)\n",
    "\n",
    "max_measured = total\n",
    "max_fitted = G_fit[0]\n",
    "print(max_measured)\n",
    "print(max_fitted)\n",
    "print(max_measured/max_fitted)"
   ]
  },
  {
   "cell_type": "code",
   "execution_count": 14,
   "metadata": {},
   "outputs": [
    {
     "name": "stdout",
     "output_type": "stream",
     "text": [
      "1063912.0605326872\n",
      "1028342.5971672235\n",
      "0.9665672900186368\n"
     ]
    }
   ],
   "source": [
    "# \n",
    "max_measured = total\n",
    "max_fitted = G_fit[0]\n",
    "print(max_measured)\n",
    "print(max_fitted)\n",
    "print(max_fitted/max_measured)"
   ]
  },
  {
   "cell_type": "code",
   "execution_count": 29,
   "metadata": {},
   "outputs": [
    {
     "name": "stdout",
     "output_type": "stream",
     "text": [
      "Background mean: 2606.389093667662\n",
      "Background median: 2607.376120133671\n",
      "Background standerd deviation: 37.979514564431916\n"
     ]
    },
    {
     "data": {
      "text/plain": [
       "<matplotlib.image.AxesImage at 0x7f0bc7e144a8>"
      ]
     },
     "execution_count": 29,
     "metadata": {},
     "output_type": "execute_result"
    },
    {
     "data": {
      "image/png": "[encoded data removed]",
      "text/plain": [
       "<Figure size 432x288 with 1 Axes>"
      ]
     },
     "metadata": {},
     "output_type": "display_data"
    },
    {
     "data": {
      "image/png": "[encoded data removed]",
      "text/plain": [
       "<Figure size 432x288 with 1 Axes>"
      ]
     },
     "metadata": {},
     "output_type": "display_data"
    }
   ],
   "source": [
    "# Second object\n",
    "# Centroid detection:\n",
    "from photutils import centroid_com, centroid_1dg, centroid_2dg\n",
    "\n",
    "# arbitrarily choosen object, section manually entered\n",
    "#ymin = 840\n",
    "#ymax = 890\n",
    "#xmin = 1260\n",
    "#xmax = 1310\n",
    "ymin = 1300\n",
    "ymax = 1350\n",
    "xmin = 1650\n",
    "xmax = 1700\n",
    "Object2_Data = bias_subtracted_im1[ymin:ymax,xmin:xmax]\n",
    "\n",
    "#Background subtract the object\n",
    "Object2_Data, mask = Background_Subtract(Object2_Data)\n",
    "\n",
    "# show the apature\n",
    "from astropy.visualization import SqrtStretch\n",
    "\n",
    "from astropy.visualization.mpl_normalize import ImageNormalize\n",
    "norm = ImageNormalize(stretch=SqrtStretch())\n",
    "\n",
    "plt.figure()\n",
    "plt.imshow(Object2_Data, norm=norm, origin='lower', cmap='viridis')\n",
    "\n",
    "\n",
    "# show the mask\n",
    "plt.figure()\n",
    "plt.imshow(mask, origin='lower', cmap='viridis')"
   ]
  },
  {
   "cell_type": "code",
   "execution_count": 30,
   "metadata": {},
   "outputs": [
    {
     "name": "stdout",
     "output_type": "stream",
     "text": [
      "Resultant parameters\n",
      "[1.41582832e+05 2.32865842e+01 2.31678746e+01 1.80567753e+00\n",
      " 1.93757472e+00 3.74389546e+00]\n",
      "Error on parameters\n",
      "[6.83338659e+02 8.56029080e-03 9.18567077e-03 8.59920977e-03\n",
      " 9.22743297e-03 1.45746337e+00]\n",
      "Covariance matrix, if that is interesting\n",
      "[[ 4.66951722e+05 -2.95312498e-08 -3.72760417e-08  2.97762205e+00\n",
      "   3.19515491e+00 -1.86780683e+02]\n",
      " [-2.95312498e-08  7.32785785e-05 -8.98891865e-15 -7.42328220e-12\n",
      "  -1.97277827e-13  1.17625932e-10]\n",
      " [-3.72760417e-08 -8.98891865e-15  8.43765476e-05 -1.73176317e-13\n",
      "  -7.83980594e-12  4.39617120e-10]\n",
      " [ 2.97762205e+00 -7.42328220e-12 -1.73176317e-13  7.39464087e-05\n",
      "   7.16615544e-07 -1.19104901e-03]\n",
      " [ 3.19515491e+00 -1.97277827e-13 -7.83980594e-12  7.16615544e-07\n",
      "   8.51455191e-05 -1.27806161e-03]\n",
      " [-1.86780683e+02  1.17625932e-10  4.39617120e-10 -1.19104901e-03\n",
      "  -1.27806161e-03  2.12419946e+00]]\n",
      "peak count\n",
      "6193.987026466009\n",
      "center:  23.286584198142215 , 23.167874556994644\n",
      "width:  3.6113550560517274 by 3.875149447746674\n"
     ]
    },
    {
     "name": "stderr",
     "output_type": "stream",
     "text": [
      "WARNING: The fit may be unsuccessful; check fit_info['message'] for more information. [astropy.modeling.fitting]\n"
     ]
    },
    {
     "data": {
      "image/png": "[encoded data removed]",
      "text/plain": [
       "<Figure size 432x288 with 1 Axes>"
      ]
     },
     "metadata": {},
     "output_type": "display_data"
    }
   ],
   "source": [
    "# Centroid dectection by curve fitting\n",
    "# this attempt uses a bivariate normal distorbution as a model for the object\n",
    "\n",
    "# define gaussian function, assuming no correlation between x and y\n",
    "# indata is a pair of arrays, each array corresponding to the x indice or y indice, in the form (x, y)\n",
    "# amplitude is the maximum amplitude of the function, minus background\n",
    "# x0, y0 are the center coord. of the function\n",
    "# sigma_x, sigma_y are the widths of the function\n",
    "# offset is the background\n",
    "# the output is flattened, in order to package it for curve_fit\n",
    "def Gaussian_2d(indata , amplitude, x0, y0, sigma_x, sigma_y, offset):\n",
    "    import numpy as np\n",
    "    x, y = indata\n",
    "    normalize = 1/(sigma_x*sigma_y*2*np.pi)\n",
    "    \n",
    "    gaussian_fun = offset + amplitude*normalize*np.exp(-(x-x0)**2/(2*sigma_x**2) - (y-y0)**2/(2*sigma_y**2))\n",
    "    \n",
    "    return gaussian_fun.ravel()\n",
    "\n",
    "# fit data to gaussian\n",
    "from scipy.optimize import curve_fit\n",
    "from photutils import centroid_2dg\n",
    "\n",
    "# generate a best guess using photutils\n",
    "x_guess, y_guess = centroid_2dg(Object2_Data)\n",
    "amp_guess = np.amax(Object2_Data)\n",
    "\n",
    "\n",
    "# indexes of the apature, remembering that python indexes vert, horz\n",
    "y = np.arange(Object2_Data.shape[0])\n",
    "x = np.arange(Object2_Data.shape[1])\n",
    "x, y = np.meshgrid(x, y)\n",
    "\n",
    "# curve fit\n",
    "G_fit, G_cov = curve_fit(Gaussian_2d, (x,y), Object2_Data.ravel(), p0=[amp_guess, x_guess, y_guess, 1, 1, 1])\n",
    "print('Resultant parameters')\n",
    "print(G_fit)\n",
    "\n",
    "error = np.sqrt(np.diag(G_cov))\n",
    "print('Error on parameters')\n",
    "print(error)\n",
    "\n",
    "print('Covariance matrix, if that is interesting')\n",
    "print(G_cov)\n",
    "\n",
    "print('peak count')\n",
    "print(np.amax(Object2_Data))\n",
    "\n",
    "# show the resulant center and width\n",
    "from astropy.visualization import SqrtStretch\n",
    "\n",
    "from astropy.visualization.mpl_normalize import ImageNormalize\n",
    "norm = ImageNormalize(stretch=SqrtStretch())\n",
    "\n",
    "x_center = G_fit[1]\n",
    "y_center = G_fit[2]\n",
    "x_width = G_fit[3]\n",
    "y_width = G_fit[4]\n",
    "\n",
    "plt.figure()\n",
    "plt.imshow(Object2_Data, norm=norm, origin='lower', cmap='viridis')\n",
    "plt.errorbar(x_center, y_center, xerr=x_width, yerr=y_width, ecolor='red')\n",
    "\n",
    "print('center: ',x_center, ',', y_center)\n",
    "print('width: ', 2*x_width, 'by', 2*y_width)"
   ]
  },
  {
   "cell_type": "code",
   "execution_count": 31,
   "metadata": {},
   "outputs": [
    {
     "name": "stdout",
     "output_type": "stream",
     "text": [
      "150942.5661650224\n",
      "141582.83150854227\n",
      "0.9379914169059023\n"
     ]
    }
   ],
   "source": [
    "# find totaly count\n",
    "total = np.sum(Object2_Data)\n",
    "\n",
    "# normalize the counts: each pixel data point is now a fraction of the total power\n",
    "normalized_data = np.divide(Object2_Data, total)\n",
    "\n",
    "max_measured = total\n",
    "max_fitted = G_fit[0]\n",
    "print(max_measured)\n",
    "print(max_fitted)\n",
    "print(max_fitted/max_measured)"
   ]
  },
  {
   "cell_type": "code",
   "execution_count": 32,
   "metadata": {},
   "outputs": [
    {
     "name": "stdout",
     "output_type": "stream",
     "text": [
      "Background mean: 2616.356991547061\n",
      "Background median: 2616.376120133671\n",
      "Background standerd deviation: 38.10540579473669\n"
     ]
    },
    {
     "data": {
      "text/plain": [
       "<matplotlib.image.AxesImage at 0x7f0bc7d74c50>"
      ]
     },
     "execution_count": 32,
     "metadata": {},
     "output_type": "execute_result"
    },
    {
     "data": {
      "image/png": "[encoded data removed]",
      "text/plain": [
       "<Figure size 432x288 with 1 Axes>"
      ]
     },
     "metadata": {},
     "output_type": "display_data"
    },
    {
     "data": {
      "image/png": "[encoded data removed]",
      "text/plain": [
       "<Figure size 432x288 with 1 Axes>"
      ]
     },
     "metadata": {},
     "output_type": "display_data"
    }
   ],
   "source": [
    "# Third object\n",
    "# Centroid detection:\n",
    "from photutils import centroid_com, centroid_1dg, centroid_2dg\n",
    "\n",
    "# arbitrarily choosen object, section manually entered\n",
    "ymin = 840\n",
    "ymax = 890\n",
    "xmin = 1260\n",
    "xmax = 1310\n",
    "\n",
    "Object3_Data = bias_subtracted_im1[ymin:ymax,xmin:xmax]\n",
    "\n",
    "#Background subtract the object\n",
    "Object3_Data, mask = Background_Subtract(Object3_Data)\n",
    "\n",
    "# show the apature\n",
    "from astropy.visualization import SqrtStretch\n",
    "\n",
    "from astropy.visualization.mpl_normalize import ImageNormalize\n",
    "norm = ImageNormalize(stretch=SqrtStretch())\n",
    "\n",
    "plt.figure()\n",
    "plt.imshow(Object3_Data, norm=norm, origin='lower', cmap='viridis')\n",
    "\n",
    "\n",
    "# show the mask\n",
    "plt.figure()\n",
    "plt.imshow(mask, origin='lower', cmap='viridis')"
   ]
  },
  {
   "cell_type": "code",
   "execution_count": 33,
   "metadata": {},
   "outputs": [
    {
     "name": "stdout",
     "output_type": "stream",
     "text": [
      "Resultant parameters\n",
      "[5.62073975e+04 2.52776781e+01 2.04030646e+01 3.41574330e+00\n",
      " 3.06611031e+00 1.30337022e+00]\n",
      "Error on parameters\n",
      "[6.89250755e+02 3.96195288e-02 3.55645182e-02 4.01980747e-02\n",
      " 3.60838504e-02 8.49680503e-01]\n",
      "Covariance matrix, if that is interesting\n",
      "[[ 4.75066603e+05  1.40269984e-07  1.99500721e-09  1.44349070e+01\n",
      "   1.29575113e+01 -1.90026556e+02]\n",
      " [ 1.40269984e-07  1.56970706e-03  4.17687725e-14 -8.05522441e-11\n",
      "   3.74379013e-12 -3.83504814e-10]\n",
      " [ 1.99500721e-09  4.17687725e-14  1.26483496e-03 -4.62671950e-13\n",
      "  -6.22482870e-11 -7.30027193e-11]\n",
      " [ 1.44349070e+01 -8.05522441e-11 -4.62671950e-13  1.61588521e-03\n",
      "   4.14518328e-05 -5.77395929e-03]\n",
      " [ 1.29575113e+01  3.74379013e-12 -6.22482870e-11  4.14518328e-05\n",
      "   1.30204426e-03 -5.18300119e-03]\n",
      " [-1.90026556e+02 -3.83504814e-10 -7.30027193e-11 -5.77395929e-03\n",
      "  -5.18300119e-03  7.21956957e-01]]\n",
      "peak count\n",
      "927.0191285866099\n",
      "center:  25.277678148512642 , 20.403064648226476\n",
      "width:  6.831486596348308 by 6.132220617986423\n"
     ]
    },
    {
     "data": {
      "image/png": "[encoded data removed]",
      "text/plain": [
       "<Figure size 432x288 with 1 Axes>"
      ]
     },
     "metadata": {},
     "output_type": "display_data"
    }
   ],
   "source": [
    "# Centroid dectection by curve fitting\n",
    "# this attempt uses a bivariate normal distorbution as a model for the object\n",
    "\n",
    "# define gaussian function, assuming no correlation between x and y\n",
    "# indata is a pair of arrays, each array corresponding to the x indice or y indice, in the form (x, y)\n",
    "# amplitude is the maximum amplitude of the function, minus background\n",
    "# x0, y0 are the center coord. of the function\n",
    "# sigma_x, sigma_y are the widths of the function\n",
    "# offset is the background\n",
    "# the output is flattened, in order to package it for curve_fit\n",
    "def Gaussian_2d(indata , amplitude, x0, y0, sigma_x, sigma_y, offset):\n",
    "    import numpy as np\n",
    "    x, y = indata\n",
    "    normalize = 1/(sigma_x*sigma_y*2*np.pi)\n",
    "    \n",
    "    gaussian_fun = offset + amplitude*normalize*np.exp(-(x-x0)**2/(2*sigma_x**2) - (y-y0)**2/(2*sigma_y**2))\n",
    "    \n",
    "    return gaussian_fun.ravel()\n",
    "\n",
    "# fit data to gaussian\n",
    "from scipy.optimize import curve_fit\n",
    "from photutils import centroid_2dg\n",
    "\n",
    "# generate a best guess using photutils\n",
    "x_guess, y_guess = centroid_2dg(Object3_Data)\n",
    "amp_guess = np.amax(Object3_Data)\n",
    "\n",
    "\n",
    "# indexes of the apature, remembering that python indexes vert, horz\n",
    "y = np.arange(Object3_Data.shape[0])\n",
    "x = np.arange(Object3_Data.shape[1])\n",
    "x, y = np.meshgrid(x, y)\n",
    "\n",
    "# curve fit\n",
    "G_fit, G_cov = curve_fit(Gaussian_2d, (x,y), Object3_Data.ravel(), p0=[amp_guess, x_guess, y_guess, 1, 1, 1])\n",
    "print('Resultant parameters')\n",
    "print(G_fit)\n",
    "\n",
    "error = np.sqrt(np.diag(G_cov))\n",
    "print('Error on parameters')\n",
    "print(error)\n",
    "\n",
    "print('Covariance matrix, if that is interesting')\n",
    "print(G_cov)\n",
    "\n",
    "print('peak count')\n",
    "print(np.amax(Object3_Data))\n",
    "\n",
    "# show the resulant center and width\n",
    "from astropy.visualization import SqrtStretch\n",
    "\n",
    "from astropy.visualization.mpl_normalize import ImageNormalize\n",
    "norm = ImageNormalize(stretch=SqrtStretch())\n",
    "\n",
    "x_center = G_fit[1]\n",
    "y_center = G_fit[2]\n",
    "x_width = G_fit[3]\n",
    "y_width = G_fit[4]\n",
    "\n",
    "plt.figure()\n",
    "plt.imshow(Object3_Data, norm=norm, origin='lower', cmap='viridis')\n",
    "plt.errorbar(x_center, y_center, xerr=x_width, yerr=y_width, ecolor='red')\n",
    "\n",
    "print('center: ',x_center, ',', y_center)\n",
    "print('width: ', 2*x_width, 'by', 2*y_width)"
   ]
  },
  {
   "cell_type": "code",
   "execution_count": 36,
   "metadata": {},
   "outputs": [
    {
     "name": "stdout",
     "output_type": "stream",
     "text": [
      "59465.82146652474\n",
      "56207.397516770136\n",
      "0.9452050964840555\n"
     ]
    }
   ],
   "source": [
    "# find totaly count\n",
    "total = np.sum(Object3_Data)\n",
    "\n",
    "# normalize the counts: each pixel data point is now a fraction of the total power\n",
    "normalized_data = np.divide(Object3_Data, total)\n",
    "\n",
    "max_measured = total\n",
    "max_fitted = G_fit[0]\n",
    "print(max_measured)\n",
    "print(max_fitted)\n",
    "print(max_fitted/max_measured)"
   ]
  },
  {
   "cell_type": "code",
   "execution_count": null,
   "metadata": {},
   "outputs": [],
   "source": []
  }
 ],
 "metadata": {
  "kernelspec": {
   "display_name": "Python 3",
   "language": "python",
   "name": "python3"
  },
  "language_info": {
   "codemirror_mode": {
    "name": "ipython",
    "version": 3
   },
   "file_extension": ".py",
   "mimetype": "text/x-python",
   "name": "python",
   "nbconvert_exporter": "python",
   "pygments_lexer": "ipython3",
   "version": "3.6.5"
  }
 },
 "nbformat": 4,
 "nbformat_minor": 2
}
